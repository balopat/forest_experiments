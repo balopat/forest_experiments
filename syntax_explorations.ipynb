{
 "cells": [
  {
   "cell_type": "code",
   "execution_count": 5,
   "metadata": {
    "collapsed": true
   },
   "outputs": [
    {
     "name": "stdout",
     "output_type": "stream",
     "text": [
      "DEFGATE SQRT-X:\n    0.49999999999999989+0.49999999999999989i, 0.49999999999999989-0.49999999999999989i\n    0.49999999999999989-0.49999999999999989i, 0.49999999999999989+0.49999999999999989i\n\nSQRT-X 0\n\n"
     ]
    }
   ],
   "source": [
    "import pyquil.quil as pq \n",
    "import numpy as np\n",
    "import pyquil.forest as forest\n",
    "from scipy.linalg import sqrtm\n",
    "\n",
    "# First we define the new gate from a matrix\n",
    "x_gate_matrix = np.array(([0.0, 1.0], [1.0, 0.0]))\n",
    "sqrt_x = sqrtm(x_gate_matrix)\n",
    "p = pq.Program().defgate(\"SQRT-X\", sqrt_x)\n",
    "\n",
    "# Then we can use the new gate,\n",
    "p.inst((\"SQRT-X\", 0))\n",
    "print p"
   ]
  },
  {
   "cell_type": "code",
   "execution_count": 20,
   "metadata": {},
   "outputs": [
    {
     "name": "stdout",
     "output_type": "stream",
     "text": [
      "DEFGATE TEST:\n    0.70710678118654757+0.0i, 0.70710678118654757+0.0i\n    -0.0-0.70710678118654757i, 0.0+0.70710678118654757i\n\n"
     ]
    }
   ],
   "source": [
    "from math import sqrt\n",
    "print pq.DefGate(\"TEST\", np.array([[sqrt(0.5), sqrt(0.5)],\n",
    "                                   [-sqrt(0.5) * 1j, sqrt(0.5) * 1j]])).out()"
   ]
  },
  {
   "cell_type": "code",
   "execution_count": null,
   "metadata": {},
   "outputs": [],
   "source": [
    ""
   ]
  },
  {
   "cell_type": "code",
   "execution_count": 7,
   "metadata": {},
   "outputs": [
    {
     "data": {
      "text/plain": [
       "(array([ 0.5+0.5j,  0.5-0.5j]), [])"
      ]
     },
     "execution_count": 7,
     "metadata": {},
     "output_type": "execute_result"
    }
   ],
   "source": [
    "qvm = forest.Connection()\n",
    "qvm.wavefunction(p)"
   ]
  },
  {
   "cell_type": "code",
   "execution_count": 17,
   "metadata": {},
   "outputs": [
    {
     "name": "stdout",
     "output_type": "stream",
     "text": [
      "M: \n[[ 1.  2.]\n [ 3.  4.]]\nMdagger\n[[ 1.  3.]\n [ 2.  4.]]\nMxMdagger\n[[  5.  11.]\n [ 11.  25.]]\nFalse\nDEFGATE NON-UNITARY-BAD-GATE:\n    1.0, 2.0\n    3.0, 4.0\n\nNON-UNITARY-BAD-GATE 0\nNON-UNITARY-BAD-GATE 1\n\n"
     ]
    },
    {
     "name": "stdout",
     "output_type": "stream",
     "text": [
      "(array([ 1.+0.j,  3.+0.j,  3.+0.j,  9.+0.j]), [])\n"
     ]
    }
   ],
   "source": [
    "non_unitary_mx = (np.array(([1.0, 2.0], [3.0, 4.0])))\n",
    "\n",
    "print \"M: \\n\", non_unitary_mx\n",
    "print \"Mdagger\\n\", non_unitary_mx.T.conj()\n",
    "print \"MxMdagger\\n\", non_unitary_mx.dot(non_unitary_mx.T.conj())\n",
    "print np.allclose(np.eye(len(non_unitary_mx)), non_unitary_mx.dot(non_unitary_mx.T.conj()))\n",
    "\n",
    "bad_prog = pq.Program().defgate(\"NON-UNITARY-BAD-GATE\", non_unitary_mx)\n",
    "bad_prog.inst((\"NON-UNITARY-BAD-GATE\",0))\n",
    "bad_prog.inst((\"NON-UNITARY-BAD-GATE\",1))\n",
    "print bad_prog\n",
    "print qvm.wavefunction(bad_prog)"
   ]
  },
  {
   "cell_type": "code",
   "execution_count": 27,
   "metadata": {},
   "outputs": [
    {
     "data": {
      "text/plain": [
       "3.0"
      ]
     },
     "execution_count": 27,
     "metadata": {},
     "output_type": "execute_result"
    }
   ],
   "source": [
    "import math\n",
    "1 + math.floor(math.log(6, 2))"
   ]
  }
 ],
 "metadata": {
  "kernelspec": {
   "display_name": "Python 2",
   "language": "python",
   "name": "python2"
  },
  "language_info": {
   "codemirror_mode": {
    "name": "ipython",
    "version": 2.0
   },
   "file_extension": ".py",
   "mimetype": "text/x-python",
   "name": "python",
   "nbconvert_exporter": "python",
   "pygments_lexer": "ipython2",
   "version": "2.7.6"
  }
 },
 "nbformat": 4,
 "nbformat_minor": 0
}